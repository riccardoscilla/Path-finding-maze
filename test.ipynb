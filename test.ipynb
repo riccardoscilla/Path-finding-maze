{
 "cells": [
  {
   "cell_type": "code",
   "execution_count": 18,
   "metadata": {},
   "outputs": [
    {
     "name": "stdout",
     "output_type": "stream",
     "text": [
      "00 01 02 03 \n",
      "10 11 12 13 \n",
      "20 21 22 23 \n",
      "\n",
      "11\n",
      "12\n"
     ]
    }
   ],
   "source": [
    "grid = []\n",
    "max_row = 3\n",
    "max_col = 4\n",
    "\n",
    "pat = [[1,2],[1,1]]\n",
    "\n",
    "for row in range(max_row):\n",
    "    grid.append([])\n",
    "    for col in range(max_col):\n",
    "        grid[row].append(f\"{row}{col}\")\n",
    "        print(f\"{row}{col} \", end=\"\")\n",
    "    print()\n",
    "\n",
    "diagonalLines = (max_row + max_col) - 1\n",
    "midPoint = (diagonalLines // 2) + 1\n",
    "\n",
    "print()\n",
    "for k in range(max_row):\n",
    "    i = k\n",
    "    j = 0\n",
    "    while i>=0:\n",
    "        if [i,j] in pat:\n",
    "            print(grid[i][j])\n",
    "        i-=1\n",
    "        j+=1\n",
    "\n",
    "for k in range(1,max_col):\n",
    "    i = max_row-1\n",
    "    j = k\n",
    "    while j<=max_col-1:\n",
    "        if [i,j] in pat:\n",
    "            print(grid[i][j])\n",
    "        i-=1\n",
    "        j+=1\n",
    "        \n"
   ]
  }
 ],
 "metadata": {
  "interpreter": {
   "hash": "1953eea66ccd26c98a703a64f3a710872aeb7920c7a443631ce24287b9a8e95d"
  },
  "kernelspec": {
   "display_name": "Python 3.7.9 64-bit",
   "language": "python",
   "name": "python3"
  },
  "language_info": {
   "codemirror_mode": {
    "name": "ipython",
    "version": 3
   },
   "file_extension": ".py",
   "mimetype": "text/x-python",
   "name": "python",
   "nbconvert_exporter": "python",
   "pygments_lexer": "ipython3",
   "version": "3.7.9"
  },
  "orig_nbformat": 4
 },
 "nbformat": 4,
 "nbformat_minor": 2
}
